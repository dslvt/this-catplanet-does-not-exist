{
 "cells": [
  {
   "cell_type": "code",
   "execution_count": 2,
   "metadata": {},
   "outputs": [],
   "source": [
    "from mayavi import mlab\n",
    "import os\n",
    "from tvtk.api import tvtk\n",
    "import math\n",
    "import matplotlib.pyplot as plt  # only for manipulating the input image\n",
    "import subprocess\n",
    "import numpy as np"
   ]
  },
  {
   "cell_type": "code",
   "execution_count": 3,
   "metadata": {},
   "outputs": [],
   "source": [
    "image_file = 'tmp.jpg'\n",
    "img = plt.imread(image_file)  # shape (N,M,3), flip along first dim\n",
    "outfile = image_file.replace('.jpg', '_flipped.jpg')\n",
    "# flip output along first dim to get right chirality of the mapping\n",
    "img = img[::-1, ...]\n",
    "plt.imsave(outfile, img)\n",
    "image_file = outfile  # work with the flipped file from now on"
   ]
  },
  {
   "cell_type": "code",
   "execution_count": null,
   "metadata": {},
   "outputs": [],
   "source": []
  }
 ],
 "metadata": {
  "kernelspec": {
   "display_name": "ds",
   "language": "python",
   "name": "python3"
  },
  "language_info": {
   "codemirror_mode": {
    "name": "ipython",
    "version": 3
   },
   "file_extension": ".py",
   "mimetype": "text/x-python",
   "name": "python",
   "nbconvert_exporter": "python",
   "pygments_lexer": "ipython3",
   "version": "3.10.5"
  },
  "orig_nbformat": 4,
  "vscode": {
   "interpreter": {
    "hash": "5fa8e7a0e7c7188de72acea4ae1bc222d1770499c4c3d36ce32843ef46b20053"
   }
  }
 },
 "nbformat": 4,
 "nbformat_minor": 2
}
